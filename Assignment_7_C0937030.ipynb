{
  "nbformat": 4,
  "nbformat_minor": 0,
  "metadata": {
    "colab": {
      "provenance": [],
      "authorship_tag": "ABX9TyOdbfLfrsJJ+2aQPQazZdgr",
      "include_colab_link": true
    },
    "kernelspec": {
      "name": "python3",
      "display_name": "Python 3"
    },
    "language_info": {
      "name": "python"
    }
  },
  "cells": [
    {
      "cell_type": "markdown",
      "metadata": {
        "id": "view-in-github",
        "colab_type": "text"
      },
      "source": [
        "<a href=\"https://colab.research.google.com/github/Amith07220/glass-type-prediction-app/blob/main/Assignment_7_C0937030.ipynb\" target=\"_parent\"><img src=\"https://colab.research.google.com/assets/colab-badge.svg\" alt=\"Open In Colab\"/></a>"
      ]
    },
    {
      "cell_type": "markdown",
      "source": [
        "**Installation of Required Libraries and Packages:**"
      ],
      "metadata": {
        "id": "LJZEuzytM8-r"
      }
    },
    {
      "cell_type": "code",
      "execution_count": 1,
      "metadata": {
        "colab": {
          "base_uri": "https://localhost:8080/"
        },
        "id": "xQZeegJfMmq8",
        "outputId": "a6a4f555-28d3-45f7-df56-4f5fa9cfb5ce"
      },
      "outputs": [
        {
          "output_type": "stream",
          "name": "stdout",
          "text": [
            "Requirement already satisfied: joblib in /usr/local/lib/python3.11/dist-packages (1.5.1)\n"
          ]
        }
      ],
      "source": [
        "!pip install joblib\n",
        "\n",
        "import pandas as pd\n",
        "from sklearn.ensemble import RandomForestClassifier\n",
        "from sklearn.model_selection import train_test_split\n",
        "from sklearn.preprocessing import StandardScaler\n",
        "import joblib\n"
      ]
    },
    {
      "cell_type": "markdown",
      "source": [
        "**Loading the Dataset:**"
      ],
      "metadata": {
        "id": "P3dHeYoBNjVC"
      }
    },
    {
      "cell_type": "code",
      "source": [
        "df = pd.read_csv('glass.csv')\n",
        "df = df.drop('Id', axis=1, errors='ignore')\n",
        "\n",
        "X = df.drop('Type', axis=1)\n",
        "y = df['Type']\n"
      ],
      "metadata": {
        "id": "HFECT7OHNC9c"
      },
      "execution_count": 4,
      "outputs": []
    },
    {
      "cell_type": "markdown",
      "source": [
        "# PHASE 1: Building the Model"
      ],
      "metadata": {
        "id": "P0Or-QrFN1cK"
      }
    },
    {
      "cell_type": "code",
      "source": [
        "# Split, features and target variables:\n",
        "X = df.drop('Type', axis=1)\n",
        "y = df['Type']\n",
        "\n",
        "# Splitting the  dataset\n",
        "X_train, X_test, y_train, y_test = train_test_split(X, y, test_size=0.2, random_state=42)\n",
        "\n",
        "# Preprocessing of the Data:\n",
        "scaler = StandardScaler()\n",
        "X_train_scaled = scaler.fit_transform(X_train)\n",
        "\n",
        "# Training the Model\n",
        "model = RandomForestClassifier()\n",
        "model.fit(X_train_scaled, y_train)\n",
        "\n",
        "# Saving the Model and Creating Scaler:\n",
        "joblib.dump(model, \"model.pkl\")\n",
        "joblib.dump(scaler, \"scaler.pkl\")"
      ],
      "metadata": {
        "colab": {
          "base_uri": "https://localhost:8080/"
        },
        "id": "c9C73FlIOk8n",
        "outputId": "ca6da178-80e8-47ad-b7ff-c8ea4b18ed34"
      },
      "execution_count": 5,
      "outputs": [
        {
          "output_type": "execute_result",
          "data": {
            "text/plain": [
              "['scaler.pkl']"
            ]
          },
          "metadata": {},
          "execution_count": 5
        }
      ]
    },
    {
      "cell_type": "markdown",
      "source": [
        "# Phase 2: Building the Streamlit App:"
      ],
      "metadata": {
        "id": "B70AoftAPQe-"
      }
    },
    {
      "cell_type": "code",
      "source": [
        "app_code = '''\n",
        "import streamlit as st\n",
        "import pandas as pd\n",
        "import numpy as np\n",
        "import joblib\n",
        "\n",
        "model = joblib.load(\"model.pkl\")\n",
        "scaler = joblib.load(\"scaler.pkl\")\n",
        "\n",
        "st.title(\"🔬 Glass Type Prediction App\")\n",
        "st.markdown(\"This app predicts the **type of glass** based on chemical composition inputs.\")\n",
        "\n",
        "features = {}\n",
        "features['RI'] = st.number_input(\"Refractive Index (RI)\", 1.4, 1.6, step=0.01)\n",
        "features['Na'] = st.number_input(\"Sodium (Na)\", 10.0, 17.0, step=0.1)\n",
        "features['Mg'] = st.number_input(\"Magnesium (Mg)\", 0.0, 5.0, step=0.1)\n",
        "features['Al'] = st.number_input(\"Aluminum (Al)\", 0.0, 5.0, step=0.1)\n",
        "features['Si'] = st.number_input(\"Silicon (Si)\", 68.0, 75.0, step=0.1)\n",
        "features['K']  = st.number_input(\"Potassium (K)\", 0.0, 6.0, step=0.1)\n",
        "features['Ca'] = st.number_input(\"Calcium (Ca)\", 5.0, 15.0, step=0.1)\n",
        "features['Ba'] = st.number_input(\"Barium (Ba)\", 0.0, 1.5, step=0.1)\n",
        "features['Fe'] = st.number_input(\"Iron (Fe)\", 0.0, 0.5, step=0.01)\n",
        "\n",
        "input_df = pd.DataFrame([features])\n",
        "\n",
        "if st.button(\"Predict Glass Type\"):\n",
        "    input_scaled = scaler.transform(input_df)\n",
        "    prediction = model.predict(input_scaled)\n",
        "    prob = model.predict_proba(input_scaled)\n",
        "\n",
        "    glass_dict = {\n",
        "        1: \"Building Windows (Float Process)\",\n",
        "        2: \"Building Windows (Non Float)\",\n",
        "        3: \"Vehicle Windows (Float Process)\",\n",
        "        5: \"Containers\",\n",
        "        6: \"Tableware\",\n",
        "        7: \"Headlamps\"\n",
        "    }\n",
        "\n",
        "    st.success(f\"🔎 Predicted Glass Type: {glass_dict.get(prediction[0], 'Unknown')} (Class {prediction[0]})\")\n",
        "    st.info(f\"Prediction Probability: {np.max(prob)*100:.2f}%\")\n",
        "'''\n",
        "with open(\"app.py\", \"w\") as f:\n",
        "    f.write(app_code)"
      ],
      "metadata": {
        "id": "qCD7XemwPiKg"
      },
      "execution_count": 7,
      "outputs": []
    },
    {
      "cell_type": "markdown",
      "source": [
        "**Creating Requirements:**"
      ],
      "metadata": {
        "id": "lHmCWit5QA1G"
      }
    },
    {
      "cell_type": "code",
      "source": [
        "requirements = '''\n",
        "streamlit\n",
        "pandas\n",
        "numpy\n",
        "scikit-learn\n",
        "joblib\n",
        "'''\n",
        "with open(\"requirements.txt\", \"w\") as f:\n",
        "    f.write(requirements.strip())\n"
      ],
      "metadata": {
        "id": "C2TrEWd3SlUv"
      },
      "execution_count": 8,
      "outputs": []
    },
    {
      "cell_type": "markdown",
      "source": [
        "**Downloading Files:**"
      ],
      "metadata": {
        "id": "bmVZy9A0S8bi"
      }
    },
    {
      "cell_type": "code",
      "source": [
        "from google.colab import files\n",
        "files.download(\"app.py\")\n",
        "files.download(\"model.pkl\")\n",
        "files.download(\"scaler.pkl\")\n",
        "files.download(\"requirements.txt\")"
      ],
      "metadata": {
        "colab": {
          "base_uri": "https://localhost:8080/",
          "height": 17
        },
        "id": "_zSog5rSS8HX",
        "outputId": "97a385ed-1046-436b-ddb4-641ff93b438f"
      },
      "execution_count": 9,
      "outputs": [
        {
          "output_type": "display_data",
          "data": {
            "text/plain": [
              "<IPython.core.display.Javascript object>"
            ],
            "application/javascript": [
              "\n",
              "    async function download(id, filename, size) {\n",
              "      if (!google.colab.kernel.accessAllowed) {\n",
              "        return;\n",
              "      }\n",
              "      const div = document.createElement('div');\n",
              "      const label = document.createElement('label');\n",
              "      label.textContent = `Downloading \"${filename}\": `;\n",
              "      div.appendChild(label);\n",
              "      const progress = document.createElement('progress');\n",
              "      progress.max = size;\n",
              "      div.appendChild(progress);\n",
              "      document.body.appendChild(div);\n",
              "\n",
              "      const buffers = [];\n",
              "      let downloaded = 0;\n",
              "\n",
              "      const channel = await google.colab.kernel.comms.open(id);\n",
              "      // Send a message to notify the kernel that we're ready.\n",
              "      channel.send({})\n",
              "\n",
              "      for await (const message of channel.messages) {\n",
              "        // Send a message to notify the kernel that we're ready.\n",
              "        channel.send({})\n",
              "        if (message.buffers) {\n",
              "          for (const buffer of message.buffers) {\n",
              "            buffers.push(buffer);\n",
              "            downloaded += buffer.byteLength;\n",
              "            progress.value = downloaded;\n",
              "          }\n",
              "        }\n",
              "      }\n",
              "      const blob = new Blob(buffers, {type: 'application/binary'});\n",
              "      const a = document.createElement('a');\n",
              "      a.href = window.URL.createObjectURL(blob);\n",
              "      a.download = filename;\n",
              "      div.appendChild(a);\n",
              "      a.click();\n",
              "      div.remove();\n",
              "    }\n",
              "  "
            ]
          },
          "metadata": {}
        },
        {
          "output_type": "display_data",
          "data": {
            "text/plain": [
              "<IPython.core.display.Javascript object>"
            ],
            "application/javascript": [
              "download(\"download_d6250c43-bc63-407f-b3cb-bd3340672a27\", \"app.py\", 1556)"
            ]
          },
          "metadata": {}
        },
        {
          "output_type": "display_data",
          "data": {
            "text/plain": [
              "<IPython.core.display.Javascript object>"
            ],
            "application/javascript": [
              "\n",
              "    async function download(id, filename, size) {\n",
              "      if (!google.colab.kernel.accessAllowed) {\n",
              "        return;\n",
              "      }\n",
              "      const div = document.createElement('div');\n",
              "      const label = document.createElement('label');\n",
              "      label.textContent = `Downloading \"${filename}\": `;\n",
              "      div.appendChild(label);\n",
              "      const progress = document.createElement('progress');\n",
              "      progress.max = size;\n",
              "      div.appendChild(progress);\n",
              "      document.body.appendChild(div);\n",
              "\n",
              "      const buffers = [];\n",
              "      let downloaded = 0;\n",
              "\n",
              "      const channel = await google.colab.kernel.comms.open(id);\n",
              "      // Send a message to notify the kernel that we're ready.\n",
              "      channel.send({})\n",
              "\n",
              "      for await (const message of channel.messages) {\n",
              "        // Send a message to notify the kernel that we're ready.\n",
              "        channel.send({})\n",
              "        if (message.buffers) {\n",
              "          for (const buffer of message.buffers) {\n",
              "            buffers.push(buffer);\n",
              "            downloaded += buffer.byteLength;\n",
              "            progress.value = downloaded;\n",
              "          }\n",
              "        }\n",
              "      }\n",
              "      const blob = new Blob(buffers, {type: 'application/binary'});\n",
              "      const a = document.createElement('a');\n",
              "      a.href = window.URL.createObjectURL(blob);\n",
              "      a.download = filename;\n",
              "      div.appendChild(a);\n",
              "      a.click();\n",
              "      div.remove();\n",
              "    }\n",
              "  "
            ]
          },
          "metadata": {}
        },
        {
          "output_type": "display_data",
          "data": {
            "text/plain": [
              "<IPython.core.display.Javascript object>"
            ],
            "application/javascript": [
              "download(\"download_e653d3ab-dbc2-4c72-865c-54c642985555\", \"model.pkl\", 834713)"
            ]
          },
          "metadata": {}
        },
        {
          "output_type": "display_data",
          "data": {
            "text/plain": [
              "<IPython.core.display.Javascript object>"
            ],
            "application/javascript": [
              "\n",
              "    async function download(id, filename, size) {\n",
              "      if (!google.colab.kernel.accessAllowed) {\n",
              "        return;\n",
              "      }\n",
              "      const div = document.createElement('div');\n",
              "      const label = document.createElement('label');\n",
              "      label.textContent = `Downloading \"${filename}\": `;\n",
              "      div.appendChild(label);\n",
              "      const progress = document.createElement('progress');\n",
              "      progress.max = size;\n",
              "      div.appendChild(progress);\n",
              "      document.body.appendChild(div);\n",
              "\n",
              "      const buffers = [];\n",
              "      let downloaded = 0;\n",
              "\n",
              "      const channel = await google.colab.kernel.comms.open(id);\n",
              "      // Send a message to notify the kernel that we're ready.\n",
              "      channel.send({})\n",
              "\n",
              "      for await (const message of channel.messages) {\n",
              "        // Send a message to notify the kernel that we're ready.\n",
              "        channel.send({})\n",
              "        if (message.buffers) {\n",
              "          for (const buffer of message.buffers) {\n",
              "            buffers.push(buffer);\n",
              "            downloaded += buffer.byteLength;\n",
              "            progress.value = downloaded;\n",
              "          }\n",
              "        }\n",
              "      }\n",
              "      const blob = new Blob(buffers, {type: 'application/binary'});\n",
              "      const a = document.createElement('a');\n",
              "      a.href = window.URL.createObjectURL(blob);\n",
              "      a.download = filename;\n",
              "      div.appendChild(a);\n",
              "      a.click();\n",
              "      div.remove();\n",
              "    }\n",
              "  "
            ]
          },
          "metadata": {}
        },
        {
          "output_type": "display_data",
          "data": {
            "text/plain": [
              "<IPython.core.display.Javascript object>"
            ],
            "application/javascript": [
              "download(\"download_cbfe3e05-3b50-42f2-b828-89736e6db600\", \"scaler.pkl\", 1103)"
            ]
          },
          "metadata": {}
        },
        {
          "output_type": "display_data",
          "data": {
            "text/plain": [
              "<IPython.core.display.Javascript object>"
            ],
            "application/javascript": [
              "\n",
              "    async function download(id, filename, size) {\n",
              "      if (!google.colab.kernel.accessAllowed) {\n",
              "        return;\n",
              "      }\n",
              "      const div = document.createElement('div');\n",
              "      const label = document.createElement('label');\n",
              "      label.textContent = `Downloading \"${filename}\": `;\n",
              "      div.appendChild(label);\n",
              "      const progress = document.createElement('progress');\n",
              "      progress.max = size;\n",
              "      div.appendChild(progress);\n",
              "      document.body.appendChild(div);\n",
              "\n",
              "      const buffers = [];\n",
              "      let downloaded = 0;\n",
              "\n",
              "      const channel = await google.colab.kernel.comms.open(id);\n",
              "      // Send a message to notify the kernel that we're ready.\n",
              "      channel.send({})\n",
              "\n",
              "      for await (const message of channel.messages) {\n",
              "        // Send a message to notify the kernel that we're ready.\n",
              "        channel.send({})\n",
              "        if (message.buffers) {\n",
              "          for (const buffer of message.buffers) {\n",
              "            buffers.push(buffer);\n",
              "            downloaded += buffer.byteLength;\n",
              "            progress.value = downloaded;\n",
              "          }\n",
              "        }\n",
              "      }\n",
              "      const blob = new Blob(buffers, {type: 'application/binary'});\n",
              "      const a = document.createElement('a');\n",
              "      a.href = window.URL.createObjectURL(blob);\n",
              "      a.download = filename;\n",
              "      div.appendChild(a);\n",
              "      a.click();\n",
              "      div.remove();\n",
              "    }\n",
              "  "
            ]
          },
          "metadata": {}
        },
        {
          "output_type": "display_data",
          "data": {
            "text/plain": [
              "<IPython.core.display.Javascript object>"
            ],
            "application/javascript": [
              "download(\"download_e3b9fda3-cfdb-4152-aafb-940e86666852\", \"requirements.txt\", 42)"
            ]
          },
          "metadata": {}
        }
      ]
    },
    {
      "cell_type": "markdown",
      "source": [],
      "metadata": {
        "id": "ESt_n_clTGHU"
      }
    },
    {
      "cell_type": "code",
      "source": [],
      "metadata": {
        "id": "h7S3cQRKTF1n"
      },
      "execution_count": null,
      "outputs": []
    }
  ]
}